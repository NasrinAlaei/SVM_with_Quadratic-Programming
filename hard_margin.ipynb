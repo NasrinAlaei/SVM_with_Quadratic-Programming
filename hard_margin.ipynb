{
  "nbformat": 4,
  "nbformat_minor": 0,
  "metadata": {
    "colab": {
      "name": "hard_margin.ipynb",
      "provenance": [],
      "collapsed_sections": []
    },
    "kernelspec": {
      "name": "python3",
      "display_name": "Python 3"
    }
  },
  "cells": [
    {
      "cell_type": "code",
      "metadata": {
        "id": "igX-ZiXFePQ4"
      },
      "source": [
        "# Import the required libraries \r\n",
        "import numpy as np\r\n",
        "from numpy import linalg\r\n",
        "import cvxopt\r\n",
        "import cvxopt.solvers\r\n",
        "\r\n",
        "def linear_kernel(x1, x2):\r\n",
        "    return np.dot(x1, x2)"
      ],
      "execution_count": 1,
      "outputs": []
    },
    {
      "cell_type": "markdown",
      "metadata": {
        "id": "r4F9j6Cofk25"
      },
      "source": [
        "The standard form formula of quadratic programming is ===>\r\n",
        "    min(1/2)x(T) * (p)(x) + q(T) * x     Subject to   Gx <= h , Ax= b\r\n",
        "\r\n",
        "We need to convert SVM to QP form.\r\n",
        "The standard form formola of  the dual problem using qp is===>\r\n",
        "    \r\n",
        "    min (1/2)a(T) * H(a) - a             Subject to  −a(i)≤0 , y(T)a=0"
      ]
    },
    {
      "cell_type": "code",
      "metadata": {
        "id": "PIcLxRVIeSXL"
      },
      "source": [
        "class SVM(object):\r\n",
        "\r\n",
        "    def __init__(self, kernel=linear_kernel):\r\n",
        "        self.kernel = kernel\r\n",
        "        \r\n",
        "\r\n",
        "    def fit(self, X, y):\r\n",
        "        n_samples, n_features = X.shape\r\n",
        "        print(\"input shape is : \" , X.shape) # A matrix with shape 200 * 2\r\n",
        "\r\n",
        "        # Gram matrix\r\n",
        "        K = np.zeros((n_samples, n_samples))\r\n",
        "        for i in range(n_samples):\r\n",
        "            for j in range(n_samples):\r\n",
        "                K[i,j] = self.kernel(X[i], X[j]) # Matrix K is 200 * 200\r\n",
        "  \r\n",
        "\r\n",
        "        P = cvxopt.matrix(np.outer(y,y) * K) # P is a positive-definite matrix ( matrix in qp func to be minimizes)\r\n",
        "        G = cvxopt.matrix(np.diag(np.ones(n_samples) * -1))\r\n",
        "        h = cvxopt.matrix(np.zeros(n_samples))\r\n",
        "        q = cvxopt.matrix(np.ones(n_samples) * -1) # The vector q has all entries −1( vectors in qp func to be minimizes)\r\n",
        "        A = cvxopt.matrix(y, (1,n_samples))\r\n",
        "        b = cvxopt.matrix(0.0) # vectors holding values of b defult =0\r\n",
        "\r\n",
        "        \r\n",
        "        # solve QP problem\r\n",
        "        solution = cvxopt.solvers.qp(P, q, G, h, A, b)\r\n",
        "\r\n",
        "        # find Lagrange multipliers\r\n",
        "        landa = np.ravel(solution['x'])\r\n",
        "        #print(\"landas for all sampels :\",landa)\r\n",
        "        \r\n",
        "        # find index that have non zero lagrange multipliers ( support vectors )\r\n",
        "        sv = landa > 1e-5\r\n",
        "\r\n",
        "        index = np.arange(len(landa))[sv] #index for landas that have non zero lagrange multipliers\r\n",
        "        #print(\"Index of support vectors: \",index)\r\n",
        "\r\n",
        "        self.landa = landa[sv] \r\n",
        "        self.sv = X[sv] \r\n",
        "        self.sv_y = y[sv] \r\n",
        "        print(\"Landas are :\" , self.landa) # print landas\r\n",
        "        print(\"support vector coordinates are : \" , self.sv)  #point coordinates that have non zero lagrange multipliers\r\n",
        "        print(\"support vector labels are :\" , self.sv_y) #labels for support vectors\r\n",
        "\r\n",
        "\r\n",
        "        # Weight vector\r\n",
        "        \r\n",
        "        self.w = np.zeros(n_features)\r\n",
        "        for n in range(len(self.landa)):\r\n",
        "            self.w += self.landa[n] * self.sv_y[n] * self.sv[n]  # landa(t) * x(t) * y(t)\r\n",
        "        print(\"weights are: \" , self.w)   \r\n",
        "        \r\n",
        "        # bais\r\n",
        "        self.b = 0\r\n",
        "        for n in range(len(self.landa)):\r\n",
        "            self.b += self.sv_y[n]\r\n",
        "            self.b -= np.sum(self.landa * self.sv_y * K[index[n],sv]) # landa(t) * y(t)\r\n",
        "        self.b /= len(self.landa)\r\n",
        "        print(\"bais is: \" , self.b)  "
      ],
      "execution_count": 3,
      "outputs": []
    },
    {
      "cell_type": "code",
      "metadata": {
        "colab": {
          "base_uri": "https://localhost:8080/",
          "height": 585
        },
        "id": "XaxSxm6XeYDa",
        "outputId": "90c5c097-6d4e-4efe-adec-a0af9d9e3227"
      },
      "source": [
        "if __name__ == \"__main__\":\r\n",
        "    import pylab as pl\r\n",
        "\r\n",
        "    def gen_lin_separable_data():\r\n",
        "        # generate train data\r\n",
        "        mean1 = np.array([0, 2])\r\n",
        "        mean2 = np.array([2, 0])\r\n",
        "        cov = np.array([[0.8, 0.6], [0.6, 0.8]])\r\n",
        "        X1 = np.random.multivariate_normal(mean1, cov, 100)\r\n",
        "        y1 = np.ones(len(X1))\r\n",
        "        X2 = np.random.multivariate_normal(mean2, cov, 100)\r\n",
        "        y2 = np.ones(len(X2)) * -1\r\n",
        "        return X1, y1, X2, y2\r\n",
        "\r\n",
        "\r\n",
        "    def join_X_y(X1, y1, X2, y2):\r\n",
        "        sampels = np.vstack((X1, X2))\r\n",
        "        labels = np.hstack((y1, y2)) \r\n",
        "        return sampels, labels \r\n",
        "       \r\n",
        "\r\n",
        "    def plot_margin(X1_plt, X2_plt, clf):\r\n",
        "        def line_mrg(x, w, b, c=0):\r\n",
        "            # w.x + b = c\r\n",
        "            return (-w[0] * x - b + c) / w[1]\r\n",
        "            \r\n",
        "        # plot decision boundray and margin\r\n",
        "        pl.plot(X1_plt[:,0], X1_plt[:,1], \"ro\")\r\n",
        "        pl.plot(X2_plt[:,0], X2_plt[:,1], \"bo\")\r\n",
        "        pl.scatter(clf.sv[:,0], clf.sv[:,1], s=100, c=\"g\")\r\n",
        "\r\n",
        "        # w.x + b = 0\r\n",
        "        a0 = -4; a1 = line_mrg(a0, clf.w, clf.b)\r\n",
        "        b0 = 4; b1 = line_mrg(b0, clf.w, clf.b)\r\n",
        "        pl.plot([a0,b0], [a1,b1], \"k\")\r\n",
        "\r\n",
        "        # w.x + b = 1\r\n",
        "        a0 = -4; a1 = line_mrg(a0, clf.w, clf.b, 1)\r\n",
        "        b0 = 4; b1 = line_mrg(b0, clf.w, clf.b, 1)\r\n",
        "        pl.plot([a0,b0], [a1,b1], \"k--\")\r\n",
        "\r\n",
        "        # w.x + b = -1\r\n",
        "        a0 = -4; a1 = line_mrg(a0, clf.w, clf.b, -1)\r\n",
        "        b0 = 4; b1 = line_mrg(b0, clf.w, clf.b, -1)\r\n",
        "        pl.plot([a0,b0], [a1,b1], \"k--\")\r\n",
        "\r\n",
        "        pl.axis(\"tight\")\r\n",
        "        pl.show()\r\n",
        "\r\n",
        "    def plot_contour(X1_train, X2_train, clf):\r\n",
        "        X1, X2 = np.meshgrid(np.linspace(-6,6,50), np.linspace(-6,6,50))\r\n",
        "        X = np.array([[x1, x2] for x1, x2 in zip(np.ravel(X1), np.ravel(X2))])\r\n",
        "        Z = clf.project(X).reshape(X1.shape)\r\n",
        "        pl.contour(X1, X2, Z, [0.0], colors='k', linewidths=1, origin='lower')\r\n",
        "        pl.contour(X1, X2, Z + 1, [0.0], colors='grey', linewidths=1, origin='lower')\r\n",
        "        pl.contour(X1, X2, Z - 1, [0.0], colors='grey', linewidths=1, origin='lower')\r\n",
        "\r\n",
        "        pl.axis(\"tight\")\r\n",
        "        pl.show()\r\n",
        "\r\n",
        "    def test_linear():\r\n",
        "        X1, y1, X2, y2 = gen_lin_separable_data()\r\n",
        "        sampels, labels = join_X_y(X1, y1, X2, y2)\r\n",
        "\r\n",
        "        clf = SVM()\r\n",
        "        clf.fit(sampels, labels)\r\n",
        "\r\n",
        "        plot_margin(sampels[labels==1], sampels[labels==-1], clf)\r\n",
        "\r\n",
        "\r\n",
        "\r\n",
        "    test_linear()"
      ],
      "execution_count": 6,
      "outputs": [
        {
          "output_type": "stream",
          "text": [
            "input shape is :  (200, 2)\n",
            "     pcost       dcost       gap    pres   dres\n",
            " 0: -1.6174e+01 -3.1253e+01  6e+02  2e+01  2e+00\n",
            " 1: -1.7723e+01 -1.3629e+01  2e+02  8e+00  6e-01\n",
            " 2: -2.4004e+01 -1.0634e+01  1e+02  4e+00  3e-01\n",
            " 3: -5.1129e+00 -5.3136e+00  3e+01  7e-01  6e-02\n",
            " 4: -3.3204e+00 -4.4061e+00  1e+00  2e-15  2e-15\n",
            " 5: -4.2550e+00 -4.2968e+00  4e-02  3e-15  2e-15\n",
            " 6: -4.2887e+00 -4.2891e+00  4e-04  2e-15  2e-15\n",
            " 7: -4.2891e+00 -4.2891e+00  4e-06  5e-15  2e-15\n",
            "Optimal solution found.\n",
            "Landas are : [3.72526065 0.56380882 4.28906946]\n",
            "support vector coordinates are :  [[-0.46305158 -0.10260379]\n",
            " [ 2.05804034  2.93684917]\n",
            " [ 0.39394274 -0.13901427]]\n",
            "support vector labels are : [ 1.  1. -1.]\n",
            "weights are:  [-2.25429434  1.86983743]\n",
            "bais is:  0.1479976701512465\n"
          ],
          "name": "stdout"
        },
        {
          "output_type": "display_data",
          "data": {
            "image/png": "[encoded data removed]",
            "text/plain": [
              "<Figure size 432x288 with 1 Axes>"
            ]
          },
          "metadata": {
            "tags": [],
            "needs_background": "light"
          }
        }
      ]
    }
  ]
}